{
 "cells": [
  {
   "cell_type": "code",
   "execution_count": null,
   "id": "3228575e",
   "metadata": {},
   "outputs": [],
   "source": [
    "# 📌 Step 1: Load Dataset\n",
    "print(\"📥 Step 1: Load Dataset\")\n",
    "\n",
    "from file_handler import load_data\n",
    "\n",
    "# Load the data and handle DB storage inside load_data()\n",
    "df, meta = load_data()\n",
    "\n",
    "# Preview the data\n",
    "if df is not None:\n",
    "    print(\"\\n✅ Data loaded successfully. Here's a preview:\")\n",
    "    print(df.head())\n",
    "\n",
    "    # Save metadata: store origin so it can be referenced in future steps\n",
    "    with open(\"data_origin.txt\", \"w\") as f:\n",
    "        f.write(\"db\" if meta.get(\"db\") else \"file\")\n",
    "\n",
    "    # Optionally store to CSV for later use if not stored in DB\n",
    "    if not meta.get(\"db\"):\n",
    "        df.to_csv(\"loaded_data.csv\", index=False)\n",
    "        print(\"💾 Data saved locally as 'loaded_data.csv'.\")\n",
    "\n",
    "else:\n",
    "    print(\"❌ Failed to load data.\")\n"
   ]
  },
  {
   "cell_type": "code",
   "execution_count": null,
   "id": "3e16a188",
   "metadata": {},
   "outputs": [],
   "source": [
    "# 📌 Step 2: Load Data for Understanding\n",
    "print(\"📖 Step 2: Understanding Dataset\")\n",
    "\n",
    "from data_understanding import fetch_data_from_file, fetch_data_from_db, data_summary\n",
    "import os\n",
    "\n",
    "# Determine the data source from step 1\n",
    "if os.path.exists(\"data_origin.txt\"):\n",
    "    with open(\"data_origin.txt\", \"r\") as f:\n",
    "        origin = f.read().strip()\n",
    "else:\n",
    "    origin = \"file\"  # fallback\n",
    "\n",
    "# Load based on origin\n",
    "if origin == \"db\":\n",
    "    df = fetch_data_from_db()\n",
    "else:\n",
    "    df = fetch_data_from_file()\n",
    "\n",
    "# Show summary if data is loaded\n",
    "if df is not None:\n",
    "    print(\"✅ Data loaded successfully for understanding.\\n\")\n",
    "    data_summary(df)\n",
    "else:\n",
    "    print(\"⚠️ Failed to load data. Please check previous steps or data source.\")\n"
   ]
  },
  {
   "cell_type": "code",
   "execution_count": null,
   "id": "6668dde2",
   "metadata": {},
   "outputs": [],
   "source": [
    "# 📌 Step 3: Preprocess the Data\n",
    "print(\"🧼 Step 3: Data Preprocessing\")\n",
    "\n",
    "from preprocessing import preprocess_pipeline\n",
    "\n",
    "preprocessed_df = preprocess_pipeline(df)\n",
    "print(\"✅ Data preprocessing complete.\")\n",
    "print(preprocessed_df.head())\n"
   ]
  },
  {
   "cell_type": "code",
   "execution_count": null,
   "metadata": {},
   "outputs": [],
   "source": [
    "# 📌 Step 4: Visualize the Data\n",
    "print(\"📊 Step 4: Data Visualization\")\n",
    "\n",
    "import data_visualization as viz\n",
    "\n",
    "viz.plot_all_graphs(preprocessed_df)\n",
    "print(\"✅ Visualizations completed.\")\n"
   ]
  },
  {
   "cell_type": "code",
   "execution_count": null,
   "id": "c936e2df",
   "metadata": {},
   "outputs": [],
   "source": [
    "# 📌 Step 5: Data Labeling\n",
    "print(\"🏷️ Step 5: Label Your Data\")\n",
    "\n",
    "from data_labeling import label_data\n",
    "\n",
    "print(\"Available columns:\")\n",
    "print(preprocessed_df.columns.tolist())\n",
    "\n",
    "target_column = input(\"Enter the target (dependent) column name: \").strip()\n",
    "labeled_df = label_data(preprocessed_df, target_column)\n",
    "\n",
    "print(f\"✅ Target column '{target_column}' has been encoded and labeled.\")\n"
   ]
  },
  {
   "cell_type": "code",
   "execution_count": null,
   "id": "6053f7ae",
   "metadata": {},
   "outputs": [],
   "source": [
    "# 📌 Step 6: Train a Model\n",
    "print(\"🤖 Step 6: Model Training\")\n",
    "\n",
    "from model_training import run_model_pipeline  # ✅ Correct function name\n",
    "\n",
    "problem_type = input(\"Is your problem supervised or unsupervised? (or press Enter to auto-detect) \").strip().lower()\n",
    "\n",
    "if problem_type in [\"\", \"supervised\"]:\n",
    "    task_type = input(\"Is it classification or regression? (or press Enter to auto-detect) \").strip().lower()\n",
    "\n",
    "    if task_type == \"classification\":\n",
    "        print(\"Available models: logistic, decision_tree, random_forest, svm\")\n",
    "    elif task_type == \"regression\":\n",
    "        print(\"Available models: linear, decision_tree, random_forest, svm\")\n",
    "    elif task_type == \"\":\n",
    "        print(\"ℹ️ Auto-detecting task type based on target column...\")\n",
    "    else:\n",
    "        raise ValueError(\"❌ Invalid supervised task type.\")\n",
    "\n",
    "    model_choice = input(\"Enter model to train (or press Enter for default): \").strip().lower() or None\n",
    "\n",
    "    # Use None for auto-detection if not provided\n",
    "    task_type = task_type if task_type in [\"classification\", \"regression\"] else None\n",
    "    model = run_model_pipeline(labeled_df, target_column, task_type, model_choice)\n",
    "\n",
    "elif problem_type == \"unsupervised\":\n",
    "    print(\"⚠️ Unsupervised learning not implemented yet.\")\n",
    "else:\n",
    "    raise ValueError(\"❌ Invalid problem type.\")\n"
   ]
  },
  {
   "cell_type": "code",
   "execution_count": null,
   "id": "b25f4b54",
   "metadata": {},
   "outputs": [],
   "source": [
    "# 📌 Step 7: Save Model\n",
    "print(\"💾 Step 7: Save Your Trained Model\")\n",
    "\n",
    "from model_saver import save_model\n",
    "\n",
    "save_model(model)\n",
    "print(\"✅ Model saved as a pickle file for deployment.\")\n"
   ]
  },
  {
   "cell_type": "code",
   "execution_count": null,
   "id": "f90cb936",
   "metadata": {},
   "outputs": [],
   "source": []
  },
  {
   "cell_type": "code",
   "execution_count": null,
   "id": "3a816180",
   "metadata": {},
   "outputs": [],
   "source": []
  },
  {
   "cell_type": "code",
   "execution_count": null,
   "id": "3d7734f8",
   "metadata": {},
   "outputs": [],
   "source": []
  },
  {
   "cell_type": "code",
   "execution_count": null,
   "id": "ab358d35",
   "metadata": {},
   "outputs": [],
   "source": []
  },
  {
   "cell_type": "code",
   "execution_count": null,
   "id": "819f086f",
   "metadata": {},
   "outputs": [],
   "source": []
  },
  {
   "cell_type": "code",
   "execution_count": null,
   "metadata": {},
   "outputs": [],
   "source": []
  },
  {
   "cell_type": "code",
   "execution_count": null,
   "id": "ea64f11f",
   "metadata": {},
   "outputs": [],
   "source": []
  }
 ],
 "metadata": {
  "kernelspec": {
   "display_name": "Bilal-2.0",
   "language": "python",
   "name": "python3"
  },
  "language_info": {
   "name": "python",
   "version": "3.12.4"
  }
 },
 "nbformat": 4,
 "nbformat_minor": 5
}
