{
 "cells": [
  {
   "cell_type": "code",
   "execution_count": null,
   "id": "3228575e",
   "metadata": {},
   "outputs": [],
   "source": [
    "# 📌 Step 1: Load Dataset\n",
    "print(\"📥 Step 1: Load Dataset\")\n",
    "\n",
    "from file_handler import load_data, store_data_in_database\n",
    "\n",
    "# Load data from file\n",
    "df = load_data()\n",
    "\n",
    "# Show data preview\n",
    "print(\"\\n✅ Data loaded successfully. Here's a preview:\")\n",
    "print(df.head())\n",
    "\n",
    "# Ask if user wants to store in database\n",
    "store_choice = input(\"\\n📦 Do you want to store this dataset in a database? (yes/no): \").strip().lower()\n",
    "\n",
    "if store_choice == 'yes':\n",
    "    print(\"\\n🧾 Available columns:\")\n",
    "    print(df.columns.tolist())\n",
    "    \n",
    "    change_cols = input(\"✏️ Do you want to rename columns before storing? (yes/no): \").strip().lower()\n",
    "    \n",
    "    if change_cols == 'yes':\n",
    "        new_cols = []\n",
    "        for col in df.columns:\n",
    "            new_name = input(f\"Enter new name for column '{col}': \")\n",
    "            new_cols.append(new_name)\n",
    "        df.columns = new_cols\n",
    "\n",
    "    # Get DB credentials\n",
    "    db_name = input(\"Enter database name: \")\n",
    "    table_name = input(\"Enter table name: \")\n",
    "    user = input(\"Enter DB username (e.g., root): \")\n",
    "    password = input(\"Enter DB password: \")\n",
    "    host = input(\"Enter DB host (default 'localhost'): \") or \"localhost\"\n",
    "    port = input(\"Enter DB port (default '3306'): \") or \"3306\"\n",
    "\n",
    "    store_data_in_database(df, db_name, table_name, user, password, host, port)\n",
    "    print(f\"✅ Data stored in database '{db_name}', table '{table_name}'.\")\n",
    "else:\n",
    "    print(\"✅ Proceeding with file-based data without storing in DB.\")\n"
   ]
  },
  {
   "cell_type": "code",
   "execution_count": null,
   "id": "3e16a188",
   "metadata": {},
   "outputs": [],
   "source": [
    "# 📌 Step 2: Load Data for Understanding\n",
    "print(\"📖 Step 2: Understanding Dataset\")\n",
    "\n",
    "from data_understanding import load_existing_data, full_data_overview\n",
    "\n",
    "# Load the data based on previous storage choice (file or DB)\n",
    "df = load_existing_data()\n",
    "\n",
    "if df is not None:\n",
    "    print(\"✅ Data loaded successfully for understanding.\\n\")\n",
    "    full_data_overview(df)\n",
    "else:\n",
    "    print(\"⚠️ Failed to load data. Please check previous steps or data source.\")\n"
   ]
  },
  {
   "cell_type": "code",
   "execution_count": null,
   "id": "6668dde2",
   "metadata": {},
   "outputs": [],
   "source": [
    "# 📌 Step 3: Preprocess the Data\n",
    "print(\"🧼 Step 3: Data Preprocessing\")\n",
    "\n",
    "from preprocessing import preprocess_pipeline\n",
    "\n",
    "preprocessed_df = preprocess_pipeline(df)\n",
    "print(\"✅ Data preprocessing complete.\")\n",
    "print(preprocessed_df.head())\n"
   ]
  },
  {
   "cell_type": "code",
   "execution_count": null,
   "metadata": {},
   "outputs": [],
   "source": [
    "# 📌 Step 4: Visualize the Data\n",
    "print(\"📊 Step 4: Data Visualization\")\n",
    "\n",
    "import data_visualization as viz\n",
    "\n",
    "viz.plot_all_graphs(preprocessed_df)\n",
    "print(\"✅ Visualizations completed.\")\n"
   ]
  },
  {
   "cell_type": "code",
   "execution_count": null,
   "id": "c936e2df",
   "metadata": {},
   "outputs": [],
   "source": [
    "# 📌 Step 5: Data Labeling\n",
    "print(\"🏷️ Step 5: Label Your Data\")\n",
    "\n",
    "from data_labeling import label_data\n",
    "\n",
    "print(\"Available columns:\")\n",
    "print(preprocessed_df.columns.tolist())\n",
    "target_column = input(\"Enter the target (dependent) column name: \")\n",
    "labeled_df = label_data(preprocessed_df, target_column)\n",
    "print(f\"✅ '{target_column}' set as dependent column.\")\n"
   ]
  },
  {
   "cell_type": "code",
   "execution_count": null,
   "id": "6053f7ae",
   "metadata": {},
   "outputs": [],
   "source": [
    "# 📌 Step 6: Train a Model\n",
    "print(\"🤖 Step 6: Model Training\")\n",
    "\n",
    "from model_training import train_model_pipeline\n",
    "\n",
    "problem_type = input(\"Is your problem supervised or unsupervised? \").strip().lower()\n",
    "\n",
    "if problem_type == \"supervised\":\n",
    "    task_type = input(\"Is it classification or regression? \").strip().lower()\n",
    "    if task_type == \"classification\":\n",
    "        print(\"Available models: logistic, decision_tree, random_forest, svm, knn, naive_bayes\")\n",
    "    elif task_type == \"regression\":\n",
    "        print(\"Available models: linear, decision_tree, random_forest, svm\")\n",
    "    else:\n",
    "        raise ValueError(\"Invalid supervised task type.\")\n",
    "    model_name = input(\"Enter model to train: \").strip()\n",
    "    model, X_test, y_test = train_model_pipeline(labeled_df, target_column, task_type, model_name)\n",
    "elif problem_type == \"unsupervised\":\n",
    "    print(\"Available models: kmeans, dbscan, agglomerative\")\n",
    "    model_name = input(\"Enter model to train: \").strip()\n",
    "    model, X_test, y_test = train_model_pipeline(labeled_df, target_column, \"unsupervised\", model_name)\n",
    "else:\n",
    "    raise ValueError(\"Invalid problem type.\")\n"
   ]
  },
  {
   "cell_type": "code",
   "execution_count": null,
   "id": "b25f4b54",
   "metadata": {},
   "outputs": [],
   "source": [
    "# 📌 Step 7: Save Model\n",
    "print(\"💾 Step 7: Save Your Trained Model\")\n",
    "\n",
    "from model_saver import save_model\n",
    "\n",
    "save_model(model)\n",
    "print(\"✅ Model saved as a pickle file for deployment.\")\n"
   ]
  },
  {
   "cell_type": "code",
   "execution_count": null,
   "id": "f90cb936",
   "metadata": {},
   "outputs": [],
   "source": []
  },
  {
   "cell_type": "code",
   "execution_count": null,
   "id": "3a816180",
   "metadata": {},
   "outputs": [],
   "source": []
  },
  {
   "cell_type": "code",
   "execution_count": null,
   "id": "3d7734f8",
   "metadata": {},
   "outputs": [],
   "source": []
  },
  {
   "cell_type": "code",
   "execution_count": null,
   "id": "ab358d35",
   "metadata": {},
   "outputs": [],
   "source": []
  },
  {
   "cell_type": "code",
   "execution_count": null,
   "id": "819f086f",
   "metadata": {},
   "outputs": [],
   "source": []
  },
  {
   "cell_type": "code",
   "execution_count": null,
   "metadata": {},
   "outputs": [],
   "source": []
  },
  {
   "cell_type": "code",
   "execution_count": null,
   "id": "ea64f11f",
   "metadata": {},
   "outputs": [],
   "source": []
  }
 ],
 "metadata": {
  "kernelspec": {
   "display_name": "Bilal-2.0",
   "language": "python",
   "name": "python3"
  },
  "language_info": {
   "name": "python",
   "version": "3.12.4"
  }
 },
 "nbformat": 4,
 "nbformat_minor": 5
}
